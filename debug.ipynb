{
 "cells": [
  {
   "cell_type": "code",
   "execution_count": 1,
   "metadata": {},
   "outputs": [],
   "source": [
    "from data_flywheel import DataFlywheel"
   ]
  },
  {
   "cell_type": "code",
   "execution_count": 2,
   "metadata": {},
   "outputs": [],
   "source": [
    "# Create a configuration dictionary\n",
    "config = {\n",
    "    'annotation_path': 'path/to/annotations',\n",
    "    'model_params': {'param1': 'value1', 'param2': 'value2'},\n",
    "    'export_path': 'path/to/export/labels',\n",
    "    # Other configuration options...\n",
    "}\n",
    "\n",
    "# Instantiate the DataFlywheel\n",
    "flywheel = DataFlywheel(config)\n"
   ]
  },
  {
   "cell_type": "code",
   "execution_count": 3,
   "metadata": {},
   "outputs": [
    {
     "name": "stderr",
     "output_type": "stream",
     "text": [
      "\u001b[32m2024-04-04 04:43:06.306\u001b[0m | \u001b[1mINFO    \u001b[0m | \u001b[36mdata_flywheel.flywheel\u001b[0m:\u001b[36mrun_flywheel\u001b[0m:\u001b[36m53\u001b[0m - \u001b[1mStarting DataFlywheel workflow...\u001b[0m\n",
      "\u001b[32m2024-04-04 04:43:06.308\u001b[0m | \u001b[1mINFO    \u001b[0m | \u001b[36mdata_flywheel.flywheel\u001b[0m:\u001b[36mload_image_annotations\u001b[0m:\u001b[36m17\u001b[0m - \u001b[1mLoading image annotations...\u001b[0m\n",
      "\u001b[32m2024-04-04 04:43:06.310\u001b[0m | \u001b[1mINFO    \u001b[0m | \u001b[36mdata_flywheel.flywheel\u001b[0m:\u001b[36mtrain_model\u001b[0m:\u001b[36m23\u001b[0m - \u001b[1mTraining model...\u001b[0m\n",
      "\u001b[32m2024-04-04 04:43:06.311\u001b[0m | \u001b[1mINFO    \u001b[0m | \u001b[36mdata_flywheel.flywheel\u001b[0m:\u001b[36mrelabel_data\u001b[0m:\u001b[36m35\u001b[0m - \u001b[1mRelabeling data...\u001b[0m\n",
      "\u001b[32m2024-04-04 04:43:06.312\u001b[0m | \u001b[1mINFO    \u001b[0m | \u001b[36mdata_flywheel.flywheel\u001b[0m:\u001b[36mexport_labels\u001b[0m:\u001b[36m41\u001b[0m - \u001b[1mExporting labels...\u001b[0m\n",
      "\u001b[32m2024-04-04 04:43:06.313\u001b[0m | \u001b[1mINFO    \u001b[0m | \u001b[36mdata_flywheel.flywheel\u001b[0m:\u001b[36mget_most_wrong\u001b[0m:\u001b[36m46\u001b[0m - \u001b[1mIdentifying most incorrect examples...\u001b[0m\n",
      "\u001b[32m2024-04-04 04:43:06.313\u001b[0m | \u001b[1mINFO    \u001b[0m | \u001b[36mdata_flywheel.flywheel\u001b[0m:\u001b[36mrun_flywheel\u001b[0m:\u001b[36m59\u001b[0m - \u001b[1mDataFlywheel workflow completed. Most incorrect examples: None\u001b[0m\n"
     ]
    }
   ],
   "source": [
    "flywheel.run_flywheel()"
   ]
  },
  {
   "cell_type": "code",
   "execution_count": null,
   "metadata": {},
   "outputs": [],
   "source": []
  }
 ],
 "metadata": {
  "kernelspec": {
   "display_name": "Python 3",
   "language": "python",
   "name": "python3"
  },
  "language_info": {
   "codemirror_mode": {
    "name": "ipython",
    "version": 3
   },
   "file_extension": ".py",
   "mimetype": "text/x-python",
   "name": "python",
   "nbconvert_exporter": "python",
   "pygments_lexer": "ipython3",
   "version": "3.10.12"
  }
 },
 "nbformat": 4,
 "nbformat_minor": 2
}
