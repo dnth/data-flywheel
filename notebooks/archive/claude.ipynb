{
 "cells": [
  {
   "cell_type": "code",
   "execution_count": 1,
   "metadata": {},
   "outputs": [
    {
     "name": "stdout",
     "output_type": "stream",
     "text": [
      "\n",
      "0: 448x640 1 zebra, 84.0ms\n",
      "Speed: 2.6ms preprocess, 84.0ms inference, 0.9ms postprocess per image at shape (1, 3, 448, 640)\n"
     ]
    },
    {
     "name": "stderr",
     "output_type": "stream",
     "text": [
      "/home/dnth/anaconda3/envs/data-flywheel/lib/python3.10/site-packages/torch/nn/modules/conv.py:456: UserWarning: Applied workaround for CuDNN issue, install nvrtc.so (Triggered internally at /opt/conda/conda-bld/pytorch_1708025831440/work/aten/src/ATen/native/cudnn/Conv_v8.cpp:80.)\n",
      "  return F.conv2d(input, weight, bias, self.stride,\n"
     ]
    },
    {
     "data": {
      "text/plain": [
       "ultralytics.engine.results.Results object with attributes:\n",
       "\n",
       "boxes: ultralytics.engine.results.Boxes object\n",
       "keypoints: None\n",
       "masks: None\n",
       "names: {0: 'person', 1: 'bicycle', 2: 'car', 3: 'motorcycle', 4: 'airplane', 5: 'bus', 6: 'train', 7: 'truck', 8: 'boat', 9: 'traffic light', 10: 'fire hydrant', 11: 'stop sign', 12: 'parking meter', 13: 'bench', 14: 'bird', 15: 'cat', 16: 'dog', 17: 'horse', 18: 'sheep', 19: 'cow', 20: 'elephant', 21: 'bear', 22: 'zebra', 23: 'giraffe', 24: 'backpack', 25: 'umbrella', 26: 'handbag', 27: 'tie', 28: 'suitcase', 29: 'frisbee', 30: 'skis', 31: 'snowboard', 32: 'sports ball', 33: 'kite', 34: 'baseball bat', 35: 'baseball glove', 36: 'skateboard', 37: 'surfboard', 38: 'tennis racket', 39: 'bottle', 40: 'wine glass', 41: 'cup', 42: 'fork', 43: 'knife', 44: 'spoon', 45: 'bowl', 46: 'banana', 47: 'apple', 48: 'sandwich', 49: 'orange', 50: 'broccoli', 51: 'carrot', 52: 'hot dog', 53: 'pizza', 54: 'donut', 55: 'cake', 56: 'chair', 57: 'couch', 58: 'potted plant', 59: 'bed', 60: 'dining table', 61: 'toilet', 62: 'tv', 63: 'laptop', 64: 'mouse', 65: 'remote', 66: 'keyboard', 67: 'cell phone', 68: 'microwave', 69: 'oven', 70: 'toaster', 71: 'sink', 72: 'refrigerator', 73: 'book', 74: 'clock', 75: 'vase', 76: 'scissors', 77: 'teddy bear', 78: 'hair drier', 79: 'toothbrush'}\n",
       "obb: None\n",
       "orig_img: array([[[  5, 132,  87],\n",
       "        [  2, 128,  86],\n",
       "        [ 11, 137,  95],\n",
       "        ...,\n",
       "        [  0,  91,  73],\n",
       "        [ 32, 131, 113],\n",
       "        [  8, 107,  89]],\n",
       "\n",
       "       [[ 20, 146, 104],\n",
       "        [  9, 135,  93],\n",
       "        [ 11, 135,  93],\n",
       "        ...,\n",
       "        [ 16, 116,  98],\n",
       "        [ 45, 145, 127],\n",
       "        [ 34, 134, 116]],\n",
       "\n",
       "       [[ 16, 142, 100],\n",
       "        [  2, 126,  84],\n",
       "        [  0, 121,  81],\n",
       "        ...,\n",
       "        [ 37, 139, 121],\n",
       "        [ 44, 146, 128],\n",
       "        [ 46, 148, 130]],\n",
       "\n",
       "       ...,\n",
       "\n",
       "       [[ 40, 143, 136],\n",
       "        [102, 205, 197],\n",
       "        [ 41, 140, 132],\n",
       "        ...,\n",
       "        [ 76, 137, 139],\n",
       "        [103, 160, 162],\n",
       "        [ 20,  75,  78]],\n",
       "\n",
       "       [[ 35, 137, 126],\n",
       "        [ 64, 166, 155],\n",
       "        [ 65, 162, 152],\n",
       "        ...,\n",
       "        [ 26,  84,  89],\n",
       "        [198, 253, 255],\n",
       "        [120, 172, 178]],\n",
       "\n",
       "       [[  0,  93,  78],\n",
       "        [ 21, 122, 107],\n",
       "        [ 56, 154, 142],\n",
       "        ...,\n",
       "        [144, 198, 205],\n",
       "        [186, 235, 243],\n",
       "        [169, 216, 224]]], dtype=uint8)\n",
       "orig_shape: (425, 640)\n",
       "path: 'coco8/images/train/000000000034.jpg'\n",
       "probs: None\n",
       "save_dir: None\n",
       "speed: {'preprocess': 2.5615692138671875, 'inference': 84.02013778686523, 'postprocess': 0.9357929229736328}"
      ]
     },
     "execution_count": 1,
     "metadata": {},
     "output_type": "execute_result"
    }
   ],
   "source": [
    "from ultralytics.utils.loss import v8DetectionLoss\n",
    "from ultralytics import YOLO\n",
    "import torch\n",
    "\n",
    "\n",
    "model = YOLO('yolov8n.pt') \n",
    "\n",
    "results = model(['coco8/images/train/000000000034.jpg'])[0]\n",
    "results"
   ]
  },
  {
   "cell_type": "code",
   "execution_count": 2,
   "metadata": {},
   "outputs": [],
   "source": [
    "%matplotlib inline\n",
    "\n",
    "results.show()"
   ]
  },
  {
   "cell_type": "code",
   "execution_count": 3,
   "metadata": {},
   "outputs": [
    {
     "name": "stdout",
     "output_type": "stream",
     "text": [
      "Best IoU: 0.0\n"
     ]
    },
    {
     "name": "stderr",
     "output_type": "stream",
     "text": [
      "/snap/core20/current/lib/x86_64-linux-gnu/libstdc++.so.6: version `GLIBCXX_3.4.29' not found (required by /lib/x86_64-linux-gnu/libproxy.so.1)\n",
      "Failed to load module: /home/dnth/snap/code/common/.cache/gio-modules/libgiolibproxy.so\n"
     ]
    },
    {
     "name": "stderr",
     "output_type": "stream",
     "text": [
      "eog: symbol lookup error: /snap/core20/current/lib/x86_64-linux-gnu/libpthread.so.0: undefined symbol: __libc_pthread_init, version GLIBC_PRIVATE\n"
     ]
    }
   ],
   "source": [
    "import torch\n",
    "\n",
    "def box_iou(box1, box2):\n",
    "    \"\"\"\n",
    "    Calculate the Intersection over Union (IoU) between two sets of bounding boxes.\n",
    "\n",
    "    Args:\n",
    "        box1 (torch.Tensor): First set of bounding boxes, shape (N, 4).\n",
    "        box2 (torch.Tensor): Second set of bounding boxes, shape (M, 4).\n",
    "\n",
    "    Returns:\n",
    "        torch.Tensor: IoU values between each pair of boxes, shape (N, M).\n",
    "    \"\"\"\n",
    "    # Compute the coordinates of the intersection rectangle\n",
    "    inter_left_upper = torch.max(box1[:, None, :2], box2[:, :2])  # (N, M, 2)\n",
    "    inter_right_bottom = torch.min(box1[:, None, 2:], box2[:, 2:])  # (N, M, 2)\n",
    "    inter_wh = (inter_right_bottom - inter_left_upper).clamp(min=0)  # (N, M, 2)\n",
    "    inter_area = inter_wh[:, :, 0] * inter_wh[:, :, 1]  # (N, M)\n",
    "\n",
    "    # Compute the areas of the bounding boxes\n",
    "    box1_area = (box1[:, 2] - box1[:, 0]) * (box1[:, 3] - box1[:, 1])  # (N,)\n",
    "    box2_area = (box2[:, 2] - box2[:, 0]) * (box2[:, 3] - box2[:, 1])  # (M,)\n",
    "\n",
    "    # Compute the union area\n",
    "    union_area = box1_area[:, None] + box2_area - inter_area\n",
    "\n",
    "    # Compute IoU\n",
    "    iou = inter_area / union_area\n",
    "\n",
    "    return iou\n",
    "\n",
    "# Read the target annotations from the file\n",
    "with open(\"coco8/labels/train/000000000034.txt\", \"r\") as file:\n",
    "    target_data = file.read().strip().split()\n",
    "\n",
    "# Convert the target annotations to the required format\n",
    "class_id = int(target_data[0])\n",
    "x, y, w, h = map(float, target_data[1:])\n",
    "target_bbox = torch.tensor([[x - w / 2, y - h / 2, x + w / 2, y + h / 2]], dtype=torch.float32)\n",
    "\n",
    "# Extract the predicted bounding boxes from the results\n",
    "pred_boxes = results.boxes.xyxy\n",
    "\n",
    "# Move the target_bbox tensor to the same device as pred_boxes\n",
    "target_bbox = target_bbox.to(pred_boxes.device)\n",
    "\n",
    "# Calculate the IoU between predicted and target bounding boxes\n",
    "iou = box_iou(pred_boxes, target_bbox)\n",
    "\n",
    "# Find the index of the predicted box with the highest IoU\n",
    "best_match_idx = iou.argmax()\n",
    "\n",
    "# Get the IoU value for the best match\n",
    "best_iou = iou[best_match_idx].item()\n",
    "\n",
    "print(\"Best IoU:\", best_iou)"
   ]
  },
  {
   "cell_type": "code",
   "execution_count": null,
   "metadata": {},
   "outputs": [],
   "source": []
  }
 ],
 "metadata": {
  "kernelspec": {
   "display_name": "data-flywheel",
   "language": "python",
   "name": "python3"
  },
  "language_info": {
   "codemirror_mode": {
    "name": "ipython",
    "version": 3
   },
   "file_extension": ".py",
   "mimetype": "text/x-python",
   "name": "python",
   "nbconvert_exporter": "python",
   "pygments_lexer": "ipython3",
   "version": "3.10.13"
  }
 },
 "nbformat": 4,
 "nbformat_minor": 2
}
